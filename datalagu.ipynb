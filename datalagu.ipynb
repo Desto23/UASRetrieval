{
 "cells": [
  {
   "cell_type": "code",
   "execution_count": null,
   "metadata": {},
   "outputs": [],
   "source": [
    "import pandas as pd\n",
    "import numpy as np\n",
    "import sys  \n",
    "\n",
    "spam_data = pd.read_csv('/resources/data/datalagu.csv')\n",
    "spam_data['label'] = np.where(spam_data['label']=='Positif',1,0)\n",
    "print(spam_data.shape)\n",
    "spam_data.head(15)\n",
    "import matplotlib.pyplot as plt\n",
    "import seaborn as sns\n",
    "spam_data[\"label\"].value_counts().plot(kind = 'pie', explode = [0, 0.1], figsize = (6, 6), autopct = '%1.1f%%', shadow = True)\n",
    "plt.ylabel(\"Positif vs Negatif\")\n",
    "plt.legend([\"positif\", \"negatif\"])\n",
    "plt.show()\n",
    "from sklearn.model_selection import train_test_split\n",
    "#Split data into train and test sets\n",
    "X_train, X_test, y_train, y_test = train_test_split(spam_data['text'],spam_data['label'],random_state=0)\n",
    "from sklearn.feature_extraction.text import CountVectorizer\n",
    "from sklearn.naive_bayes import MultinomialNB\n",
    "from sklearn.metrics import roc_auc_score\n",
    "#Train and evaluate the model\n",
    "vect = CountVectorizer().fit(X_train)\n",
    "X_train_vectorized = vect.transform(X_train)\n",
    "clfrNB = MultinomialNB(alpha = 0.1)\n",
    "clfrNB.fit(X_train_vectorized, y_train)\n",
    "preds = clfrNB.predict(vect.transform(X_test))\n",
    "score = roc_auc_score(y_test, preds)\n",
    "print(score)\n",
    "from sklearn.metrics import confusion_matrix\n",
    "print(confusion_matrix(y_test, preds))"
   ]
  },
  {
   "cell_type": "code",
   "execution_count": 5,
   "metadata": {},
   "outputs": [
    {
     "name": "stdout",
     "output_type": "stream",
     "text": [
      "(14, 2)\n"
     ]
    },
    {
     "data": {
      "text/html": [
       "<div>\n",
       "<style scoped>\n",
       "    .dataframe tbody tr th:only-of-type {\n",
       "        vertical-align: middle;\n",
       "    }\n",
       "\n",
       "    .dataframe tbody tr th {\n",
       "        vertical-align: top;\n",
       "    }\n",
       "\n",
       "    .dataframe thead th {\n",
       "        text-align: right;\n",
       "    }\n",
       "</style>\n",
       "<table border=\"1\" class=\"dataframe\">\n",
       "  <thead>\n",
       "    <tr style=\"text-align: right;\">\n",
       "      <th></th>\n",
       "      <th>label</th>\n",
       "      <th>text</th>\n",
       "    </tr>\n",
       "  </thead>\n",
       "  <tbody>\n",
       "    <tr>\n",
       "      <th>0</th>\n",
       "      <td>1</td>\n",
       "      <td>Mentari terbenam temani dalam kesendirianku Te...</td>\n",
       "    </tr>\n",
       "    <tr>\n",
       "      <th>1</th>\n",
       "      <td>1</td>\n",
       "      <td>Yo kujelang matahari dengan segelas teh panas ...</td>\n",
       "    </tr>\n",
       "    <tr>\n",
       "      <th>2</th>\n",
       "      <td>1</td>\n",
       "      <td>Tak ada manusia Yang terlahir sempurna Jangan ...</td>\n",
       "    </tr>\n",
       "    <tr>\n",
       "      <th>3</th>\n",
       "      <td>1</td>\n",
       "      <td>Ku tatap dunia Terasa perih luka didada Pertem...</td>\n",
       "    </tr>\n",
       "    <tr>\n",
       "      <th>4</th>\n",
       "      <td>1</td>\n",
       "      <td>Apa yang kau takutkan Dengan semua ini Bukanka...</td>\n",
       "    </tr>\n",
       "    <tr>\n",
       "      <th>5</th>\n",
       "      <td>1</td>\n",
       "      <td>Hadapi dengan senyuman Semua yang terjadi biar...</td>\n",
       "    </tr>\n",
       "    <tr>\n",
       "      <th>6</th>\n",
       "      <td>1</td>\n",
       "      <td>mimpi adalah kunci untuk kita menaklukkan duni...</td>\n",
       "    </tr>\n",
       "    <tr>\n",
       "      <th>7</th>\n",
       "      <td>0</td>\n",
       "      <td>Telah lama aku bertahan Demi cinta wujudkan se...</td>\n",
       "    </tr>\n",
       "    <tr>\n",
       "      <th>8</th>\n",
       "      <td>0</td>\n",
       "      <td>Tubuh saling bersandar Ke arah mata angin berb...</td>\n",
       "    </tr>\n",
       "    <tr>\n",
       "      <th>9</th>\n",
       "      <td>0</td>\n",
       "      <td>Ku ingin cinta hadir untuk selamanya Bukan ha...</td>\n",
       "    </tr>\n",
       "    <tr>\n",
       "      <th>10</th>\n",
       "      <td>0</td>\n",
       "      <td>Aku memang orang biasa Wujudku memang tak semp...</td>\n",
       "    </tr>\n",
       "    <tr>\n",
       "      <th>11</th>\n",
       "      <td>0</td>\n",
       "      <td>Resah jiwaku menanti Mengingat semua yg terlew...</td>\n",
       "    </tr>\n",
       "    <tr>\n",
       "      <th>12</th>\n",
       "      <td>0</td>\n",
       "      <td>Maaf ku telah menyakitimu Ku telah kecewakanmu...</td>\n",
       "    </tr>\n",
       "    <tr>\n",
       "      <th>13</th>\n",
       "      <td>0</td>\n",
       "      <td>Berakhir Kisah Cintaku Kepadanya Tak Mungkin L...</td>\n",
       "    </tr>\n",
       "  </tbody>\n",
       "</table>\n",
       "</div>"
      ],
      "text/plain": [
       "    label                                               text\n",
       "0       1  Mentari terbenam temani dalam kesendirianku Te...\n",
       "1       1  Yo kujelang matahari dengan segelas teh panas ...\n",
       "2       1  Tak ada manusia Yang terlahir sempurna Jangan ...\n",
       "3       1  Ku tatap dunia Terasa perih luka didada Pertem...\n",
       "4       1  Apa yang kau takutkan Dengan semua ini Bukanka...\n",
       "5       1  Hadapi dengan senyuman Semua yang terjadi biar...\n",
       "6       1  mimpi adalah kunci untuk kita menaklukkan duni...\n",
       "7       0  Telah lama aku bertahan Demi cinta wujudkan se...\n",
       "8       0  Tubuh saling bersandar Ke arah mata angin berb...\n",
       "9       0   Ku ingin cinta hadir untuk selamanya Bukan ha...\n",
       "10      0  Aku memang orang biasa Wujudku memang tak semp...\n",
       "11      0  Resah jiwaku menanti Mengingat semua yg terlew...\n",
       "12      0  Maaf ku telah menyakitimu Ku telah kecewakanmu...\n",
       "13      0  Berakhir Kisah Cintaku Kepadanya Tak Mungkin L..."
      ]
     },
     "execution_count": 5,
     "metadata": {},
     "output_type": "execute_result"
    }
   ],
   "source": [
    "import pandas as pd\n",
    "import numpy as np\n",
    "import sys  \n",
    "\n",
    "spam_data = pd.read_csv('/resources/data/datalagu.csv')\n",
    "spam_data['label'] = np.where(spam_data['label']=='positif',1,0)\n",
    "print(spam_data.shape)\n",
    "spam_data.head(15)"
   ]
  },
  {
   "cell_type": "code",
   "execution_count": null,
   "metadata": {},
   "outputs": [],
   "source": [
    "pip install pandas"
   ]
  },
  {
   "cell_type": "code",
   "execution_count": null,
   "metadata": {},
   "outputs": [],
   "source": [
    "pip install numpy"
   ]
  },
  {
   "cell_type": "code",
   "execution_count": null,
   "metadata": {},
   "outputs": [],
   "source": [
    "pip install sys"
   ]
  },
  {
   "cell_type": "code",
   "execution_count": 7,
   "metadata": {},
   "outputs": [
    {
     "data": {
      "image/png": "[encoded data removed]",
      "text/plain": [
       "<Figure size 432x432 with 1 Axes>"
      ]
     },
     "metadata": {},
     "output_type": "display_data"
    },
    {
     "name": "stdout",
     "output_type": "stream",
     "text": [
      "1.0\n",
      "[[2 0]\n",
      " [0 2]]\n"
     ]
    }
   ],
   "source": [
    "import matplotlib.pyplot as plt\n",
    "import seaborn as sns\n",
    "spam_data[\"label\"].value_counts().plot(kind = 'pie', explode = [0, 0.1], figsize = (6, 6), autopct = '%1.1f%%', shadow = True)\n",
    "plt.ylabel(\"Positif vs Negatif\")\n",
    "plt.legend([\"positif\", \"negatif\"])\n",
    "plt.show()\n",
    "from sklearn.model_selection import train_test_split\n",
    "#Split data into train and test sets\n",
    "X_train, X_test, y_train, y_test = train_test_split(spam_data['text'],spam_data['label'],random_state=0)\n",
    "from sklearn.feature_extraction.text import CountVectorizer\n",
    "from sklearn.naive_bayes import MultinomialNB\n",
    "from sklearn.metrics import roc_auc_score\n",
    "#Train and evaluate the model\n",
    "vect = CountVectorizer().fit(X_train)\n",
    "X_train_vectorized = vect.transform(X_train)\n",
    "clfrNB = MultinomialNB(alpha = 0.1)\n",
    "clfrNB.fit(X_train_vectorized, y_train)\n",
    "preds = clfrNB.predict(vect.transform(X_test))\n",
    "score = roc_auc_score(y_test, preds)\n",
    "print(score)\n",
    "from sklearn.metrics import confusion_matrix\n",
    "print(confusion_matrix(y_test, preds))"
   ]
  },
  {
   "cell_type": "code",
   "execution_count": 8,
   "metadata": {},
   "outputs": [
    {
     "name": "stdout",
     "output_type": "stream",
     "text": [
      "[0 1 1 0]\n"
     ]
    }
   ],
   "source": [
    "print(preds)"
   ]
  },
  {
   "cell_type": "code",
   "execution_count": null,
   "metadata": {},
   "outputs": [],
   "source": []
  }
 ],
 "metadata": {
  "kernelspec": {
   "display_name": "Python",
   "language": "python",
   "name": "conda-env-python-py"
  },
  "language_info": {
   "codemirror_mode": {
    "name": "ipython",
    "version": 3
   },
   "file_extension": ".py",
   "mimetype": "text/x-python",
   "name": "python",
   "nbconvert_exporter": "python",
   "pygments_lexer": "ipython3",
   "version": "3.6.7"
  }
 },
 "nbformat": 4,
 "nbformat_minor": 4
}
